{
 "cells": [
  {
   "cell_type": "code",
   "execution_count": 7,
   "id": "3fd41d44",
   "metadata": {},
   "outputs": [
    {
     "name": "stdout",
     "output_type": "stream",
     "text": [
      "enter the name =heena\n",
      "enter the name =ronaa\n",
      "the common letter is= {'n', 'a'}\n"
     ]
    }
   ],
   "source": [
    "# find out the common letters\n",
    "\n",
    "def common_letter():\n",
    "    str1 = input(\"enter the name =\")\n",
    "    str2 =input(\"enter the name =\")\n",
    "    s1 = set(str1)\n",
    "    s2 = set(str2)\n",
    "    #print(s1)\n",
    "    #print(s2)\n",
    "    lst = s1 & s2\n",
    "    print('the common letter is=',lst)\n",
    "common_letter() "
   ]
  },
  {
   "cell_type": "code",
   "execution_count": 14,
   "id": "00c79246",
   "metadata": {},
   "outputs": [
    {
     "name": "stdout",
     "output_type": "stream",
     "text": [
      "enter the string = ml and dl is now days very popular \n",
      "{'ml': 1, 'and': 1, 'dl': 1, 'is': 1, 'now': 1, 'days': 1, 'very': 1, 'popular': 1}\n"
     ]
    }
   ],
   "source": [
    "# count the frequency of the word \n",
    "\n",
    "def freq_word():\n",
    "    st = input(\"enter the string = \")\n",
    "    li = st.split()\n",
    "    d = {}\n",
    "    for i in li:\n",
    "        if i not in d.keys():\n",
    "            d[i] = 0\n",
    "            d[i] = d[i]+1\n",
    "    print(d)\n",
    "freq_word()   \n",
    "    "
   ]
  },
  {
   "cell_type": "code",
   "execution_count": 32,
   "id": "6aa7d200",
   "metadata": {},
   "outputs": [
    {
     "name": "stdout",
     "output_type": "stream",
     "text": [
      "5 6\n",
      "6 5\n",
      "9 2\n",
      "2 9\n"
     ]
    }
   ],
   "source": [
    "arr = [1,3,5,6,7,9,2]\n",
    "for i in arr:\n",
    "    for num in arr:\n",
    "        if(i+num==11):\n",
    "            print(i,num)\n",
    "        "
   ]
  },
  {
   "cell_type": "code",
   "execution_count": 40,
   "id": "cfadc395",
   "metadata": {},
   "outputs": [
    {
     "name": "stdout",
     "output_type": "stream",
     "text": [
      "{1: 'one', 2: 'two', 3: 'three'}\n"
     ]
    }
   ],
   "source": [
    "def list_to_dict():\n",
    "    keys = [1,2,3]\n",
    "    values = ['one', 'two','three']\n",
    "    res = dict(zip(keys,values))\n",
    "    print(res)\n",
    "list_to_dict()   "
   ]
  },
  {
   "cell_type": "code",
   "execution_count": 7,
   "id": "da543b7e",
   "metadata": {},
   "outputs": [
    {
     "name": "stdout",
     "output_type": "stream",
     "text": [
      "[('a', 1), ('b', 2), ('c', 3)]\n"
     ]
    }
   ],
   "source": [
    "x = {\"a\": 1, \"b\": 2, \"c\": 3}\n",
    "a = x.items()\n",
    "listq = list(a)\n",
    "print(listq)   \n",
    "    "
   ]
  },
  {
   "cell_type": "code",
   "execution_count": 16,
   "id": "a6699e0f",
   "metadata": {},
   "outputs": [
    {
     "name": "stdout",
     "output_type": "stream",
     "text": [
      "maximum depth of binary tree is  4\n"
     ]
    }
   ],
   "source": [
    "class node:\n",
    "    def __init__(self,key):\n",
    "        self.data = key\n",
    "        self.left = None\n",
    "        self.right = None\n",
    "\n",
    "def hight_tree(root):\n",
    "    if(root==None):                          # program for maximum depth of the binary tree\n",
    "        return 0\n",
    "    else:\n",
    "        ldepth = hight_tree(root.left)\n",
    "        rdepth = hight_tree(root.right)\n",
    "    if(ldepth > rdepth):\n",
    "        return(1+ldepth)\n",
    "    else:\n",
    "        return(1+rdepth)\n",
    "    \n",
    "root = node(1)\n",
    "root.left = node(2)\n",
    "root.left.left = node(4)\n",
    "root.left.right = node(5)\n",
    "root.right = node(3)\n",
    "root.right.right = node(6)\n",
    "root.left.left.left = node(7)\n",
    "\n",
    "print(\"maximum depth of binary tree is \",hight_tree(root))\n",
    "        \n"
   ]
  },
  {
   "cell_type": "code",
   "execution_count": 18,
   "id": "afa86f1a",
   "metadata": {},
   "outputs": [
    {
     "name": "stdout",
     "output_type": "stream",
     "text": [
      "minimum depth of binary tree is 2\n"
     ]
    }
   ],
   "source": [
    "class node:\n",
    "    def __init__(self,key):\n",
    "        self.data = key\n",
    "        self.left = None\n",
    "        self.right = None\n",
    "\n",
    "def min_tree(root):                      #program for minimum depth of the binary tree\n",
    "    if(root==None):\n",
    "        return 0\n",
    "    else:\n",
    "        ldepth = min_tree(root.left)\n",
    "        rdepth = min_tree(root.right)\n",
    "    if(ldepth > rdepth):\n",
    "        return(1+rdepth)\n",
    "    else:\n",
    "        return(1+ldepth)\n",
    "    \n",
    "root = node(1)\n",
    "root.left = node(2)\n",
    "root.left.left = node(4)\n",
    "root.left.right = node(5)\n",
    "root.right = node(3)\n",
    "root.right.right = node(6)\n",
    "root.left.left.left = node(7)\n",
    "\n",
    "print(\"minimum depth of binary tree is\",min_tree(root))\n",
    "        "
   ]
  },
  {
   "cell_type": "code",
   "execution_count": 25,
   "id": "b9b22174",
   "metadata": {},
   "outputs": [
    {
     "name": "stdout",
     "output_type": "stream",
     "text": [
      "1\n"
     ]
    }
   ],
   "source": [
    "# finf the minimum difference between two elemnts of array\n",
    "\n",
    "arr = [5,32,45,4,12,18,25]\n",
    "arr1 = sorted(arr)\n",
    "size = len(arr1)\n",
    "min_diff = 9999*999\n",
    "\n",
    "for i in range(size-1):\n",
    "    if(arr1[i+1] - arr1[i] < min_diff):\n",
    "        min_diff = arr1[i+1] - arr1[i]\n",
    "        print( min_diff)\n",
    "        "
   ]
  },
  {
   "cell_type": "code",
   "execution_count": 31,
   "id": "79e12c63",
   "metadata": {},
   "outputs": [
    {
     "name": "stdout",
     "output_type": "stream",
     "text": [
      "1\n",
      "7\n",
      "13\n"
     ]
    }
   ],
   "source": [
    "arr = [5,32,45,4,12,18,25]\n",
    "arr1 = sorted(arr)\n",
    "size = len(arr1)\n",
    "max_diff = - 9999*999\n",
    "\n",
    "for i in range(size-1):\n",
    "    if(arr1[i+1] - arr1[i] > max_diff):\n",
    "        max_diff = arr1[i+1] - arr1[i]\n",
    "        print( max_diff)\n",
    "        "
   ]
  },
  {
   "cell_type": "code",
   "execution_count": 40,
   "id": "47f66239",
   "metadata": {},
   "outputs": [
    {
     "name": "stdout",
     "output_type": "stream",
     "text": [
      "3\n"
     ]
    }
   ],
   "source": [
    "a=[1,2,4,5,6,7]\n",
    "n = a[-1]\n",
    "total = n*(n+1)//2\n",
    "sum1 = sum(a)\n",
    "print(total-sum1)\n"
   ]
  },
  {
   "cell_type": "code",
   "execution_count": null,
   "id": "38d16728",
   "metadata": {},
   "outputs": [],
   "source": []
  }
 ],
 "metadata": {
  "kernelspec": {
   "display_name": "Python 3",
   "language": "python",
   "name": "python3"
  },
  "language_info": {
   "codemirror_mode": {
    "name": "ipython",
    "version": 3
   },
   "file_extension": ".py",
   "mimetype": "text/x-python",
   "name": "python",
   "nbconvert_exporter": "python",
   "pygments_lexer": "ipython3",
   "version": "3.8.8"
  }
 },
 "nbformat": 4,
 "nbformat_minor": 5
}
